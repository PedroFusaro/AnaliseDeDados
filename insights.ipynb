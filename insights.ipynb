{
 "cells": [
  {
   "cell_type": "markdown",
   "metadata": {},
   "source": [
    "# Python Insights - Analisando Dados com Python\n",
    "\n",
    "### Case - Cancelamento de Clientes\n",
    "\n",
    "Você foi contratado por uma empresa com mais de 800 mil clientes para um projeto de Dados. Recentemente a empresa percebeu que da sua base total de clientes, a maioria são clientes inativos, ou seja, que já cancelaram o serviço.\n",
    "\n",
    "Precisando melhorar seus resultados ela quer conseguir entender os principais motivos desses cancelamentos e quais as ações mais eficientes para reduzir esse número.\n",
    "\n",
    "Base de dados e arquivos: https://drive.google.com/drive/folders/1uDesZePdkhiraJmiyeZ-w5tfc8XsNYFZ?usp=drive_link"
   ]
  },
  {
   "cell_type": "code",
   "execution_count": null,
   "metadata": {},
   "outputs": [],
   "source": [
    "# Passo 1: Abrir a base de dados\n",
    "import pandas as pd\n",
    "\n",
    "tabela = pd.read_csv(\"cancelamentos.csv\")\n",
    "\n",
    "# Passo 2: Visualizar a base de dados (2 objetivos: entender as inforrmações e encontrar problemas)\n",
    "\n",
    "# remover colunas inuteis\n",
    "tabela = tabela.drop(columns=\"CustomerID\")\n",
    "\n",
    "display(tabela)\n"
   ]
  },
  {
   "cell_type": "code",
   "execution_count": null,
   "metadata": {},
   "outputs": [],
   "source": [
    "\n",
    "# Passo 3: Limpar a base de dados\n",
    "    # informacoes no formato errado\n",
    "    # informacoes vazias\n",
    "tabela = tabela.dropna()# remove valores nulos\n",
    "display(tabela.info())# mostra informacoes sobre a tabela"
   ]
  },
  {
   "cell_type": "code",
   "execution_count": null,
   "metadata": {},
   "outputs": [],
   "source": [
    "# Passo 4: Análise inicial (quantos clientes cancelaram, qual a % de clientes)\n",
    "# Passo 4.1: Quantos clientes cancelaram e quantos nao cancelaram?\n",
    "\n",
    "display(tabela[\"cancelou\"].value_counts())# mostra a quantidade de clientes que cancelaram e não cancelaram\n",
    "\n",
    "# Passo 4.2: Qual a porcentagem de clientes que cancelaram?\n",
    "display(tabela[\"cancelou\"].value_counts(normalize=True).map(\"{:.2%}\".format))# mostra a porcentagem de clientes que cancelaram e não cancelaram formatado em porcentagem\n"
   ]
  },
  {
   "cell_type": "code",
   "execution_count": null,
   "metadata": {},
   "outputs": [],
   "source": [
    "# Passo 5: Analise detalhada (causa dos cancelamentos)\n",
    "import plotly.express as px\n",
    "\n",
    "for coluna in tabela.columns:\n",
    "    grafico = px.histogram(tabela, x=coluna, color=\"cancelou\", text_auto=True)\n",
    "    #exibe o grafico\n",
    "    grafico.show()\n"
   ]
  },
  {
   "cell_type": "code",
   "execution_count": null,
   "metadata": {},
   "outputs": [],
   "source": [
    "# clientes que ligam mais de 4x cancelam\n",
    "    #Criar alertas quando cliente ligar a 3 vez\n",
    "    \n",
    "tabela = tabela[tabela[\"ligacoes_callcenter\"]<=4]\n",
    "\n",
    "display(tabela[\"cancelou\"].value_counts(normalize=True).map(\"{:.2%}\".format))# mostra a porcentagem de clientes que cancelaram e não cancelaram formatado em porcentagem"
   ]
  },
  {
   "cell_type": "code",
   "execution_count": null,
   "metadata": {},
   "outputs": [],
   "source": [
    "# contratos mensais cancelam\n",
    "    #Descontos para contratos anuais\n",
    "tabela = tabela[tabela[\"duracao_contrato\"]!=\"Monthly\"]\n",
    "display(tabela[\"cancelou\"].value_counts(normalize=True).map(\"{:.2%}\".format))# mostra a porcentagem de clientes que cancelaram e não cancelaram formatado em porcentagem"
   ]
  },
  {
   "cell_type": "code",
   "execution_count": null,
   "metadata": {},
   "outputs": [],
   "source": [
    "# todos clientes que atrasam mais de 20 dias cancelam\n",
    "    # Criar alertas quando cliente atrasar mais de 10 dias\n",
    "\n",
    "tabela = tabela[tabela[\"dias_atraso\"]<=20]\n",
    "display(tabela[\"cancelou\"].value_counts(normalize=True).map(\"{:.2%}\".format))# mostra a porcentagem de clientes que cancelaram e não cancelaram formatado em porcentagem"
   ]
  }
 ],
 "metadata": {
  "kernelspec": {
   "display_name": "Python 3",
   "language": "python",
   "name": "python3"
  },
  "language_info": {
   "codemirror_mode": {
    "name": "ipython",
    "version": 3
   },
   "file_extension": ".py",
   "mimetype": "text/x-python",
   "name": "python",
   "nbconvert_exporter": "python",
   "pygments_lexer": "ipython3",
   "version": "3.13.2"
  },
  "orig_nbformat": 4
 },
 "nbformat": 4,
 "nbformat_minor": 2
}
